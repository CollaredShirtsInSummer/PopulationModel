{
 "cells": [
  {
   "cell_type": "code",
   "execution_count": 33,
   "metadata": {},
   "outputs": [],
   "source": [
    "import pandas as pd\n",
    "import numpy as np"
   ]
  },
  {
   "cell_type": "code",
   "execution_count": 129,
   "metadata": {},
   "outputs": [],
   "source": [
    "class BasicPopModel:\n",
    "    def __init__(self,birthage=20,deathage=80,familysize=3,startpopulation=100,aged=0):\n",
    "        self.birthage = birthage\n",
    "        self.deathage = deathage\n",
    "        self.familysize = familysize\n",
    "        self.startpopulation = startpopulation\n",
    "        self.growthrate = 0\n",
    "        self.age = 0\n",
    "        self.years = 0\n",
    "        \n",
    "        StartCen = [(aged,birthage,familysize,deathage,startpopulation)]\n",
    "        #print(type(StartCen[0][0]))\n",
    "        self.census = pd.DataFrame(StartCen, columns = ['age','parenthood', 'familysize','deathage','count'])\n",
    "        #self.census.append({'age' : aged, 'parenthood' : birthage, 'familysize' : familysize, 'deathage' : deathage, 'count' : startpopulation}, ignore_index=True )\n",
    "        \n",
    "    def YearUp(self,years=1):\n",
    "        for i in range(years):    \n",
    "            self.census = self.census.loc[self.census['age'] < self.census['deathage']] + [1,0,0,0,0]\n",
    "            newPeeps = self.census.loc[self.census['age'] == self.census['parenthood']]*[0,1,1,1,1]\n",
    "            if not newPeeps.empty:\n",
    "                for i, demog in newPeeps.iterrows():\n",
    "                    newCount = int((demog[4] * demog[2])/ 2)\n",
    "                    self.census = self.census.append({'age' : 0, 'parenthood' : demog[1], 'familysize' : demog[2], 'deathage' : demog[3], 'count' : newCount}, ignore_index=True)\n",
    "        self.years += years\n",
    "        \n",
    "    def FindGrowthRate(self):\n",
    "        #print(np.log(self.census['count']).sum())\n",
    "        #print(np.log(self.startpopulation)\n",
    "        #print()\n",
    "        return np.log(self.census['count'].sum())/np.log(self.startpopulation)/self.years/100\n",
    "    \n",
    "    def CurrDependentRatio(self,AoI=22,AoA=75):\n",
    "        GT = self.census.loc[self.census['age'] > AoA]['count'].sum()\n",
    "        LT = self.census.loc[self.census['age'] < AoI]['count'].sum()\n",
    "        #print(self.census.loc[ AoA > self.census['age']])\n",
    "        #print(self.census.loc[ AoA > self.census['age']].sum())\n",
    "        ET = self.census.loc[ AoA > self.census['age']].loc[self.census['age'] > AoI]['count'].sum()\n",
    "        #print(GT)\n",
    "        #print(LT)\n",
    "        #print(ET)\n",
    "        #if(ET == 0):\n",
    "        #    return \"No Independents\"\n",
    "        return (GT + LT) / ET\n",
    "        \n",
    "    def AvgDependentRatio:\n",
    "        return 0\n",
    "    def SetAgeof\n",
    "    "
   ]
  },
  {
   "cell_type": "code",
   "execution_count": 130,
   "metadata": {},
   "outputs": [
    {
     "data": {
      "text/html": [
       "<div>\n",
       "<style scoped>\n",
       "    .dataframe tbody tr th:only-of-type {\n",
       "        vertical-align: middle;\n",
       "    }\n",
       "\n",
       "    .dataframe tbody tr th {\n",
       "        vertical-align: top;\n",
       "    }\n",
       "\n",
       "    .dataframe thead th {\n",
       "        text-align: right;\n",
       "    }\n",
       "</style>\n",
       "<table border=\"1\" class=\"dataframe\">\n",
       "  <thead>\n",
       "    <tr style=\"text-align: right;\">\n",
       "      <th></th>\n",
       "      <th>age</th>\n",
       "      <th>parenthood</th>\n",
       "      <th>familysize</th>\n",
       "      <th>deathage</th>\n",
       "      <th>count</th>\n",
       "    </tr>\n",
       "  </thead>\n",
       "  <tbody>\n",
       "    <tr>\n",
       "      <th>0</th>\n",
       "      <td>0</td>\n",
       "      <td>33</td>\n",
       "      <td>3</td>\n",
       "      <td>90</td>\n",
       "      <td>100</td>\n",
       "    </tr>\n",
       "  </tbody>\n",
       "</table>\n",
       "</div>"
      ],
      "text/plain": [
       "   age  parenthood  familysize  deathage  count\n",
       "0    0          33           3        90    100"
      ]
     },
     "execution_count": 130,
     "metadata": {},
     "output_type": "execute_result"
    }
   ],
   "source": [
    "boop = BasicPopModel(birthage=33,aged=0,deathage=90)\n",
    "boop.census"
   ]
  },
  {
   "cell_type": "code",
   "execution_count": 131,
   "metadata": {},
   "outputs": [],
   "source": [
    "boop.YearUp(200)"
   ]
  },
  {
   "cell_type": "code",
   "execution_count": 132,
   "metadata": {},
   "outputs": [
    {
     "data": {
      "text/plain": [
       "8.449170085084135e-05"
      ]
     },
     "execution_count": 132,
     "metadata": {},
     "output_type": "execute_result"
    }
   ],
   "source": [
    "boop.FindGrowthRate()"
   ]
  },
  {
   "cell_type": "code",
   "execution_count": 133,
   "metadata": {},
   "outputs": [
    {
     "name": "stdout",
     "output_type": "stream",
     "text": [
      "   age  parenthood  familysize  deathage  count\n",
      "0   68          33           3        90    505\n",
      "1   35          33           3        90    757\n",
      "2    2          33           3        90   1135\n"
     ]
    }
   ],
   "source": [
    "print(boop.census)"
   ]
  },
  {
   "cell_type": "code",
   "execution_count": 134,
   "metadata": {},
   "outputs": [
    {
     "data": {
      "text/plain": [
       "0.8993660855784469"
      ]
     },
     "execution_count": 134,
     "metadata": {},
     "output_type": "execute_result"
    }
   ],
   "source": [
    "boop.CurrDependentRatio()"
   ]
  },
  {
   "cell_type": "code",
   "execution_count": 11,
   "metadata": {},
   "outputs": [
    {
     "data": {
      "text/html": [
       "<div>\n",
       "<style scoped>\n",
       "    .dataframe tbody tr th:only-of-type {\n",
       "        vertical-align: middle;\n",
       "    }\n",
       "\n",
       "    .dataframe tbody tr th {\n",
       "        vertical-align: top;\n",
       "    }\n",
       "\n",
       "    .dataframe thead th {\n",
       "        text-align: right;\n",
       "    }\n",
       "</style>\n",
       "<table border=\"1\" class=\"dataframe\">\n",
       "  <thead>\n",
       "    <tr style=\"text-align: right;\">\n",
       "      <th></th>\n",
       "      <th>age</th>\n",
       "      <th>parenthood</th>\n",
       "      <th>familysize</th>\n",
       "      <th>deathage</th>\n",
       "      <th>count</th>\n",
       "    </tr>\n",
       "  </thead>\n",
       "  <tbody>\n",
       "    <tr>\n",
       "      <th>0</th>\n",
       "      <td>90</td>\n",
       "      <td>34</td>\n",
       "      <td>3</td>\n",
       "      <td>96</td>\n",
       "      <td>43606</td>\n",
       "    </tr>\n",
       "    <tr>\n",
       "      <th>1</th>\n",
       "      <td>56</td>\n",
       "      <td>34</td>\n",
       "      <td>3</td>\n",
       "      <td>96</td>\n",
       "      <td>65409</td>\n",
       "    </tr>\n",
       "    <tr>\n",
       "      <th>2</th>\n",
       "      <td>22</td>\n",
       "      <td>34</td>\n",
       "      <td>3</td>\n",
       "      <td>96</td>\n",
       "      <td>98113</td>\n",
       "    </tr>\n",
       "  </tbody>\n",
       "</table>\n",
       "</div>"
      ],
      "text/plain": [
       "   age  parenthood  familysize  deathage  count\n",
       "0   90          34           3        96  43606\n",
       "1   56          34           3        96  65409\n",
       "2   22          34           3        96  98113"
      ]
     },
     "execution_count": 11,
     "metadata": {},
     "output_type": "execute_result"
    }
   ],
   "source": [
    "for i in range(200):    \n",
    "    boop.census = boop.census.loc[boop.census['age'] < boop.census['deathage']] + [1,0,0,0,0]\n",
    "    newPeeps = boop.census.loc[boop.census['age'] == boop.census['parenthood']]*[0,1,1,1,1]\n",
    "    if not newPeeps.empty:\n",
    "        for i, demog in newPeeps.iterrows():\n",
    "            newCount = int((demog[4] * demog[2])/ 2)\n",
    "            boop.census = boop.census.append({'age' : 0, 'parenthood' : demog[1], 'familysize' : demog[2], 'deathage' : demog[3], 'count' : newCount}, ignore_index=True)\n",
    "    #newPeeps = 0\n",
    "boop.census"
   ]
  },
  {
   "cell_type": "code",
   "execution_count": null,
   "metadata": {},
   "outputs": [],
   "source": [
    "boop.census = boop.census.loc[boop.census['age'] < boop.census['deathage']] + [1,0,0,0,0]\n",
    "newPeeps = boop.census.loc[boop.census['age'] == boop.census['parenthood']]*[0,1,1,1,1]\n",
    "if not newPeeps.empty:\n",
    "    for i, demog in newPeeps.iterrows():\n",
    "        print(demog)\n",
    "        print(demog[4])\n",
    "        print(demog[2])\n",
    "        newCount = int((demog[4] * demog[2])/ 2)\n",
    "        print(newCount)\n",
    "        boop.census = boop.census.append({'age' : 0, 'parenthood' : demog[1], 'familysize' : demog[2], 'deathage' : demog[3], 'count' : newCount}, ignore_index=True)\n",
    "newPeeps = 0\n",
    "boop.census"
   ]
  },
  {
   "cell_type": "code",
   "execution_count": null,
   "metadata": {},
   "outputs": [],
   "source": [
    "newPeeps = boop.census.loc[boop.census['age'] == boop.census['parenthood']]*[0,1,1,1,1]\n",
    "if not newPeeps.empty:\n",
    "    for i, demog in newPeeps.iterrows():\n",
    "        print(demog)\n",
    "        newCount = int((demog[4] * demog[2])/ 3)\n",
    "        boop.census = boop.census.append({'age' : 0, 'parenthood' : demog[1], 'familysize' : demog[2], 'deathage' : demog[3], 'count' : newCount}, ignore_index=True)\n",
    "newPeeps = 0"
   ]
  },
  {
   "cell_type": "code",
   "execution_count": null,
   "metadata": {},
   "outputs": [],
   "source": [
    "boop.census"
   ]
  },
  {
   "cell_type": "code",
   "execution_count": null,
   "metadata": {},
   "outputs": [],
   "source": []
  },
  {
   "cell_type": "code",
   "execution_count": null,
   "metadata": {},
   "outputs": [],
   "source": [
    "boo = BasicPopModel(aged=19)\n",
    "for i, demog in boo.census.iterrows():\n",
    "    demog[0] += 1\n",
    "    print(boo.census)\n",
    "    print(demog)\n",
    "    if(demog[0] == demog[1]):\n",
    "        boo.census = boo.census.append({'age' : 0, 'parenthood' : demog[1], 'familysize' : demog[2], 'deathage' : demog[3], 'count' : demog[4] * demog[2], 'dead' : False}, ignore_index=True)\n",
    "    print(boo.census)\n",
    "    print(demog)"
   ]
  },
  {
   "cell_type": "code",
   "execution_count": null,
   "metadata": {},
   "outputs": [],
   "source": [
    "boo.census[:]"
   ]
  },
  {
   "cell_type": "code",
   "execution_count": null,
   "metadata": {},
   "outputs": [],
   "source": [
    "#a = next(boo.census.iterrows())\n"
   ]
  },
  {
   "cell_type": "code",
   "execution_count": null,
   "metadata": {},
   "outputs": [],
   "source": [
    "#boo.census.drop(boo.census.index[0])\n",
    "#boo.census"
   ]
  },
  {
   "cell_type": "code",
   "execution_count": null,
   "metadata": {},
   "outputs": [],
   "source": [
    "df = boo.census\n"
   ]
  },
  {
   "cell_type": "code",
   "execution_count": null,
   "metadata": {},
   "outputs": [],
   "source": [
    "df"
   ]
  },
  {
   "cell_type": "code",
   "execution_count": null,
   "metadata": {},
   "outputs": [],
   "source": [
    "df.drop(df.index[0],inplace=True)\n",
    "df"
   ]
  },
  {
   "cell_type": "code",
   "execution_count": null,
   "metadata": {},
   "outputs": [],
   "source": [
    "#df.index[[0]]"
   ]
  },
  {
   "cell_type": "code",
   "execution_count": null,
   "metadata": {},
   "outputs": [],
   "source": [
    "i = 0\n",
    "while i < len(boo.census.index):\n",
    "    if i == 0:\n",
    "        \n",
    "    i+=1\n",
    "    "
   ]
  },
  {
   "cell_type": "code",
   "execution_count": null,
   "metadata": {},
   "outputs": [],
   "source": [
    "for i in range(20):\n",
    "    for i, demog in enumerate(boo.census.iterrows()):\n",
    "        line = demog[1]\n",
    "        line[0] += 1\n",
    "        print(i)\n",
    "        print(line)\n",
    "        if line[5]:\n",
    "            #print('hmm')\n",
    "            continue\n",
    "        if(line[0] == line[1]):\n",
    "            boo.census = boo.census.append({'age' : 0, 'parenthood' : line[1], 'familysize' : line[2], 'deathage' : line[3], 'count' : line[4] * line[2], 'dead' : False}, ignore_index=True)\n",
    "            #print(\"birth \" + str(i))\n",
    "            #print()\n",
    "            #print(line[0])\n",
    "            #print(line[1])\n",
    "        if(line[0] == line[3]):\n",
    "            line[5] == True\n",
    "            #print(\"postdeath i: \" + str(i))\n",
    "            \n",
    "            "
   ]
  },
  {
   "cell_type": "code",
   "execution_count": null,
   "metadata": {},
   "outputs": [],
   "source": []
  },
  {
   "cell_type": "code",
   "execution_count": null,
   "metadata": {},
   "outputs": [],
   "source": [
    "print(boo.census)"
   ]
  },
  {
   "cell_type": "code",
   "execution_count": null,
   "metadata": {},
   "outputs": [],
   "source": [
    "boo.YearUp()"
   ]
  },
  {
   "cell_type": "code",
   "execution_count": null,
   "metadata": {},
   "outputs": [],
   "source": [
    "boo.census.append({'age' : 0, 'parenthood' : line[1], 'familysize' : line[2], 'deathage' : line[3], 'count' : line[4] * line[2]}, ignore_index=True)"
   ]
  },
  {
   "cell_type": "code",
   "execution_count": null,
   "metadata": {},
   "outputs": [],
   "source": [
    "def addd(a=1,b=2):\n",
    "    return a + b\n",
    "\n",
    "    "
   ]
  },
  {
   "cell_type": "code",
   "execution_count": null,
   "metadata": {},
   "outputs": [],
   "source": [
    "print(addd())"
   ]
  },
  {
   "cell_type": "code",
   "execution_count": null,
   "metadata": {},
   "outputs": [],
   "source": []
  },
  {
   "cell_type": "code",
   "execution_count": null,
   "metadata": {},
   "outputs": [],
   "source": [
    "print(\"hello world\")"
   ]
  },
  {
   "cell_type": "code",
   "execution_count": null,
   "metadata": {},
   "outputs": [],
   "source": []
  }
 ],
 "metadata": {
  "kernelspec": {
   "display_name": "Python 3",
   "language": "python",
   "name": "python3"
  },
  "language_info": {
   "codemirror_mode": {
    "name": "ipython",
    "version": 3
   },
   "file_extension": ".py",
   "mimetype": "text/x-python",
   "name": "python",
   "nbconvert_exporter": "python",
   "pygments_lexer": "ipython3",
   "version": "3.6.4"
  }
 },
 "nbformat": 4,
 "nbformat_minor": 2
}
