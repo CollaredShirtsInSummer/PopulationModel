{
 "cells": [
  {
   "cell_type": "code",
   "execution_count": 25,
   "metadata": {},
   "outputs": [],
   "source": [
    "import pandas as pd\n",
    "import numpy as np"
   ]
  },
  {
   "cell_type": "code",
   "execution_count": 149,
   "metadata": {},
   "outputs": [],
   "source": [
    "class BasicPopModel:\n",
    "    def __init__(self,birthage=20,deathage=80,familysize=3,startpopulation=100,age=0,indep=20,assis=70):\n",
    "        self.birthage = birthage\n",
    "        self.deathage = deathage\n",
    "        self.familysize = familysize\n",
    "        self.startpopulation = startpopulation\n",
    "        self.growthrate = 0\n",
    "        self.baseage = age\n",
    "        self.lapsed = 0\n",
    "        self.independence = indep\n",
    "        self.assistance = assis\n",
    "        \n",
    "        StartCen = [(age,birthage,familysize,deathage,startpopulation)]\n",
    "        self.census = pd.DataFrame(StartCen, columns = ['age','parenthood', 'familysize','deathage','count'])\n",
    "        self.ratios = pd.DataFrame( [self.CurrDependentRatio()], columns = ['DepRatio'])\n",
    "        \n",
    "    def YearUp(self,years=1):\n",
    "        if(years < 1):\n",
    "            return \"years lapsed must be greater than 0\"\n",
    "        for i in range(years):    \n",
    "            self.census = self.census.loc[self.census['age'] < self.census['deathage']] + [1,0,0,0,0]\n",
    "            newPeeps = self.census.loc[self.census['age'] == self.census['parenthood']]*[0,1,1,1,1]\n",
    "            if not newPeeps.empty:\n",
    "                for i, demog in newPeeps.iterrows():\n",
    "                    newCount = int((demog[4] * demog[2])/ 2)\n",
    "                    self.census = self.census.append({'age' : 0, 'parenthood' : demog[1], 'familysize' : demog[2], 'deathage' : demog[3], 'count' : newCount}, ignore_index=True)\n",
    "            self.lapsed+=years\n",
    "            currRatio = self.CurrDependentRatio()\n",
    "            self.ratios = self.ratios.append({'DepRatio' : currRatio }, ignore_index=True)\n",
    "            \n",
    "    \n",
    "    def FindGrowthRate(self):\n",
    "        return np.log(self.census['count'].sum())/np.log(self.startpopulation)/self.lapsed/100\n",
    "    \n",
    "    def CurrDependentRatio(self,AoI=-1,AoA=-1):\n",
    "        if AoI == -1:\n",
    "            AoI = self.independence\n",
    "        if AoA == -1:\n",
    "            AoA = self.assistance\n",
    "        GT = self.census.loc[self.census['age'] > AoA]['count'].sum()\n",
    "        LT = self.census.loc[self.census['age'] < AoI]['count'].sum()\n",
    "        ET = self.census.loc[ AoA > self.census['age']].loc[self.census['age'] > AoI]['count'].sum()\n",
    "        if ET == 0:\n",
    "            return 1\n",
    "        return (GT + LT) / ET\n",
    "        \n",
    "    def AvgDependentRatio(self):\n",
    "        return self.ratios.mean()\n",
    "    "
   ]
  },
  {
   "cell_type": "code",
   "execution_count": 142,
   "metadata": {},
   "outputs": [
    {
     "data": {
      "text/html": [
       "<div>\n",
       "<style scoped>\n",
       "    .dataframe tbody tr th:only-of-type {\n",
       "        vertical-align: middle;\n",
       "    }\n",
       "\n",
       "    .dataframe tbody tr th {\n",
       "        vertical-align: top;\n",
       "    }\n",
       "\n",
       "    .dataframe thead th {\n",
       "        text-align: right;\n",
       "    }\n",
       "</style>\n",
       "<table border=\"1\" class=\"dataframe\">\n",
       "  <thead>\n",
       "    <tr style=\"text-align: right;\">\n",
       "      <th></th>\n",
       "      <th>DepRatio</th>\n",
       "    </tr>\n",
       "  </thead>\n",
       "  <tbody>\n",
       "    <tr>\n",
       "      <th>0</th>\n",
       "      <td>1</td>\n",
       "    </tr>\n",
       "  </tbody>\n",
       "</table>\n",
       "</div>"
      ],
      "text/plain": [
       "   DepRatio\n",
       "0         1"
      ]
     },
     "execution_count": 142,
     "metadata": {},
     "output_type": "execute_result"
    }
   ],
   "source": [
    "boop = BasicPopModel(birthage=33,age=0,deathage=90)\n",
    "boop.census\n",
    "boop.ratios"
   ]
  },
  {
   "cell_type": "code",
   "execution_count": 143,
   "metadata": {},
   "outputs": [],
   "source": [
    "boop.YearUp(100)"
   ]
  },
  {
   "cell_type": "code",
   "execution_count": 144,
   "metadata": {},
   "outputs": [
    {
     "data": {
      "text/plain": [
       "1.4262399968184283e-06"
      ]
     },
     "execution_count": 144,
     "metadata": {},
     "output_type": "execute_result"
    }
   ],
   "source": [
    "boop.FindGrowthRate()"
   ]
  },
  {
   "cell_type": "code",
   "execution_count": 145,
   "metadata": {},
   "outputs": [
    {
     "name": "stdout",
     "output_type": "stream",
     "text": [
      "   age  parenthood  familysize  deathage  count\n",
      "0   67          33           3        90    150\n",
      "1   34          33           3        90    225\n",
      "2    1          33           3        90    337\n"
     ]
    }
   ],
   "source": [
    "print(boop.census)"
   ]
  },
  {
   "cell_type": "code",
   "execution_count": 146,
   "metadata": {},
   "outputs": [
    {
     "data": {
      "text/html": [
       "<div>\n",
       "<style scoped>\n",
       "    .dataframe tbody tr th:only-of-type {\n",
       "        vertical-align: middle;\n",
       "    }\n",
       "\n",
       "    .dataframe tbody tr th {\n",
       "        vertical-align: top;\n",
       "    }\n",
       "\n",
       "    .dataframe thead th {\n",
       "        text-align: right;\n",
       "    }\n",
       "</style>\n",
       "<table border=\"1\" class=\"dataframe\">\n",
       "  <thead>\n",
       "    <tr style=\"text-align: right;\">\n",
       "      <th></th>\n",
       "      <th>DepRatio</th>\n",
       "    </tr>\n",
       "  </thead>\n",
       "  <tbody>\n",
       "    <tr>\n",
       "      <th>0</th>\n",
       "      <td>1.000000</td>\n",
       "    </tr>\n",
       "    <tr>\n",
       "      <th>1</th>\n",
       "      <td>1.000000</td>\n",
       "    </tr>\n",
       "    <tr>\n",
       "      <th>2</th>\n",
       "      <td>1.000000</td>\n",
       "    </tr>\n",
       "    <tr>\n",
       "      <th>3</th>\n",
       "      <td>1.000000</td>\n",
       "    </tr>\n",
       "    <tr>\n",
       "      <th>4</th>\n",
       "      <td>1.000000</td>\n",
       "    </tr>\n",
       "    <tr>\n",
       "      <th>5</th>\n",
       "      <td>1.000000</td>\n",
       "    </tr>\n",
       "    <tr>\n",
       "      <th>6</th>\n",
       "      <td>1.000000</td>\n",
       "    </tr>\n",
       "    <tr>\n",
       "      <th>7</th>\n",
       "      <td>1.000000</td>\n",
       "    </tr>\n",
       "    <tr>\n",
       "      <th>8</th>\n",
       "      <td>1.000000</td>\n",
       "    </tr>\n",
       "    <tr>\n",
       "      <th>9</th>\n",
       "      <td>1.000000</td>\n",
       "    </tr>\n",
       "    <tr>\n",
       "      <th>10</th>\n",
       "      <td>1.000000</td>\n",
       "    </tr>\n",
       "    <tr>\n",
       "      <th>11</th>\n",
       "      <td>1.000000</td>\n",
       "    </tr>\n",
       "    <tr>\n",
       "      <th>12</th>\n",
       "      <td>1.000000</td>\n",
       "    </tr>\n",
       "    <tr>\n",
       "      <th>13</th>\n",
       "      <td>1.000000</td>\n",
       "    </tr>\n",
       "    <tr>\n",
       "      <th>14</th>\n",
       "      <td>1.000000</td>\n",
       "    </tr>\n",
       "    <tr>\n",
       "      <th>15</th>\n",
       "      <td>1.000000</td>\n",
       "    </tr>\n",
       "    <tr>\n",
       "      <th>16</th>\n",
       "      <td>1.000000</td>\n",
       "    </tr>\n",
       "    <tr>\n",
       "      <th>17</th>\n",
       "      <td>1.000000</td>\n",
       "    </tr>\n",
       "    <tr>\n",
       "      <th>18</th>\n",
       "      <td>1.000000</td>\n",
       "    </tr>\n",
       "    <tr>\n",
       "      <th>19</th>\n",
       "      <td>1.000000</td>\n",
       "    </tr>\n",
       "    <tr>\n",
       "      <th>20</th>\n",
       "      <td>1.000000</td>\n",
       "    </tr>\n",
       "    <tr>\n",
       "      <th>21</th>\n",
       "      <td>0.000000</td>\n",
       "    </tr>\n",
       "    <tr>\n",
       "      <th>22</th>\n",
       "      <td>0.000000</td>\n",
       "    </tr>\n",
       "    <tr>\n",
       "      <th>23</th>\n",
       "      <td>0.000000</td>\n",
       "    </tr>\n",
       "    <tr>\n",
       "      <th>24</th>\n",
       "      <td>0.000000</td>\n",
       "    </tr>\n",
       "    <tr>\n",
       "      <th>25</th>\n",
       "      <td>0.000000</td>\n",
       "    </tr>\n",
       "    <tr>\n",
       "      <th>26</th>\n",
       "      <td>0.000000</td>\n",
       "    </tr>\n",
       "    <tr>\n",
       "      <th>27</th>\n",
       "      <td>0.000000</td>\n",
       "    </tr>\n",
       "    <tr>\n",
       "      <th>28</th>\n",
       "      <td>0.000000</td>\n",
       "    </tr>\n",
       "    <tr>\n",
       "      <th>29</th>\n",
       "      <td>0.000000</td>\n",
       "    </tr>\n",
       "    <tr>\n",
       "      <th>...</th>\n",
       "      <td>...</td>\n",
       "    </tr>\n",
       "    <tr>\n",
       "      <th>71</th>\n",
       "      <td>2.166667</td>\n",
       "    </tr>\n",
       "    <tr>\n",
       "      <th>72</th>\n",
       "      <td>2.166667</td>\n",
       "    </tr>\n",
       "    <tr>\n",
       "      <th>73</th>\n",
       "      <td>2.166667</td>\n",
       "    </tr>\n",
       "    <tr>\n",
       "      <th>74</th>\n",
       "      <td>2.166667</td>\n",
       "    </tr>\n",
       "    <tr>\n",
       "      <th>75</th>\n",
       "      <td>2.166667</td>\n",
       "    </tr>\n",
       "    <tr>\n",
       "      <th>76</th>\n",
       "      <td>2.166667</td>\n",
       "    </tr>\n",
       "    <tr>\n",
       "      <th>77</th>\n",
       "      <td>2.166667</td>\n",
       "    </tr>\n",
       "    <tr>\n",
       "      <th>78</th>\n",
       "      <td>2.166667</td>\n",
       "    </tr>\n",
       "    <tr>\n",
       "      <th>79</th>\n",
       "      <td>2.166667</td>\n",
       "    </tr>\n",
       "    <tr>\n",
       "      <th>80</th>\n",
       "      <td>2.166667</td>\n",
       "    </tr>\n",
       "    <tr>\n",
       "      <th>81</th>\n",
       "      <td>2.166667</td>\n",
       "    </tr>\n",
       "    <tr>\n",
       "      <th>82</th>\n",
       "      <td>2.166667</td>\n",
       "    </tr>\n",
       "    <tr>\n",
       "      <th>83</th>\n",
       "      <td>2.166667</td>\n",
       "    </tr>\n",
       "    <tr>\n",
       "      <th>84</th>\n",
       "      <td>2.166667</td>\n",
       "    </tr>\n",
       "    <tr>\n",
       "      <th>85</th>\n",
       "      <td>2.166667</td>\n",
       "    </tr>\n",
       "    <tr>\n",
       "      <th>86</th>\n",
       "      <td>0.666667</td>\n",
       "    </tr>\n",
       "    <tr>\n",
       "      <th>87</th>\n",
       "      <td>0.266667</td>\n",
       "    </tr>\n",
       "    <tr>\n",
       "      <th>88</th>\n",
       "      <td>0.266667</td>\n",
       "    </tr>\n",
       "    <tr>\n",
       "      <th>89</th>\n",
       "      <td>0.266667</td>\n",
       "    </tr>\n",
       "    <tr>\n",
       "      <th>90</th>\n",
       "      <td>0.266667</td>\n",
       "    </tr>\n",
       "    <tr>\n",
       "      <th>91</th>\n",
       "      <td>0.000000</td>\n",
       "    </tr>\n",
       "    <tr>\n",
       "      <th>92</th>\n",
       "      <td>0.000000</td>\n",
       "    </tr>\n",
       "    <tr>\n",
       "      <th>93</th>\n",
       "      <td>0.000000</td>\n",
       "    </tr>\n",
       "    <tr>\n",
       "      <th>94</th>\n",
       "      <td>0.000000</td>\n",
       "    </tr>\n",
       "    <tr>\n",
       "      <th>95</th>\n",
       "      <td>0.000000</td>\n",
       "    </tr>\n",
       "    <tr>\n",
       "      <th>96</th>\n",
       "      <td>0.000000</td>\n",
       "    </tr>\n",
       "    <tr>\n",
       "      <th>97</th>\n",
       "      <td>0.000000</td>\n",
       "    </tr>\n",
       "    <tr>\n",
       "      <th>98</th>\n",
       "      <td>0.000000</td>\n",
       "    </tr>\n",
       "    <tr>\n",
       "      <th>99</th>\n",
       "      <td>0.898667</td>\n",
       "    </tr>\n",
       "    <tr>\n",
       "      <th>100</th>\n",
       "      <td>0.898667</td>\n",
       "    </tr>\n",
       "  </tbody>\n",
       "</table>\n",
       "<p>101 rows × 1 columns</p>\n",
       "</div>"
      ],
      "text/plain": [
       "     DepRatio\n",
       "0    1.000000\n",
       "1    1.000000\n",
       "2    1.000000\n",
       "3    1.000000\n",
       "4    1.000000\n",
       "5    1.000000\n",
       "6    1.000000\n",
       "7    1.000000\n",
       "8    1.000000\n",
       "9    1.000000\n",
       "10   1.000000\n",
       "11   1.000000\n",
       "12   1.000000\n",
       "13   1.000000\n",
       "14   1.000000\n",
       "15   1.000000\n",
       "16   1.000000\n",
       "17   1.000000\n",
       "18   1.000000\n",
       "19   1.000000\n",
       "20   1.000000\n",
       "21   0.000000\n",
       "22   0.000000\n",
       "23   0.000000\n",
       "24   0.000000\n",
       "25   0.000000\n",
       "26   0.000000\n",
       "27   0.000000\n",
       "28   0.000000\n",
       "29   0.000000\n",
       "..        ...\n",
       "71   2.166667\n",
       "72   2.166667\n",
       "73   2.166667\n",
       "74   2.166667\n",
       "75   2.166667\n",
       "76   2.166667\n",
       "77   2.166667\n",
       "78   2.166667\n",
       "79   2.166667\n",
       "80   2.166667\n",
       "81   2.166667\n",
       "82   2.166667\n",
       "83   2.166667\n",
       "84   2.166667\n",
       "85   2.166667\n",
       "86   0.666667\n",
       "87   0.266667\n",
       "88   0.266667\n",
       "89   0.266667\n",
       "90   0.266667\n",
       "91   0.000000\n",
       "92   0.000000\n",
       "93   0.000000\n",
       "94   0.000000\n",
       "95   0.000000\n",
       "96   0.000000\n",
       "97   0.000000\n",
       "98   0.000000\n",
       "99   0.898667\n",
       "100  0.898667\n",
       "\n",
       "[101 rows x 1 columns]"
      ]
     },
     "execution_count": 146,
     "metadata": {},
     "output_type": "execute_result"
    }
   ],
   "source": [
    "boop.ratios"
   ]
  },
  {
   "cell_type": "code",
   "execution_count": 147,
   "metadata": {},
   "outputs": [
    {
     "data": {
      "text/plain": [
       "0.8986666666666666"
      ]
     },
     "execution_count": 147,
     "metadata": {},
     "output_type": "execute_result"
    }
   ],
   "source": [
    "boop.CurrDependentRatio()"
   ]
  },
  {
   "cell_type": "code",
   "execution_count": 148,
   "metadata": {},
   "outputs": [
    {
     "data": {
      "text/plain": [
       "DepRatio    0.912185\n",
       "dtype: float64"
      ]
     },
     "execution_count": 148,
     "metadata": {},
     "output_type": "execute_result"
    }
   ],
   "source": [
    "boop.AvgDependentRatio()"
   ]
  },
  {
   "cell_type": "code",
   "execution_count": 11,
   "metadata": {},
   "outputs": [
    {
     "data": {
      "text/html": [
       "<div>\n",
       "<style scoped>\n",
       "    .dataframe tbody tr th:only-of-type {\n",
       "        vertical-align: middle;\n",
       "    }\n",
       "\n",
       "    .dataframe tbody tr th {\n",
       "        vertical-align: top;\n",
       "    }\n",
       "\n",
       "    .dataframe thead th {\n",
       "        text-align: right;\n",
       "    }\n",
       "</style>\n",
       "<table border=\"1\" class=\"dataframe\">\n",
       "  <thead>\n",
       "    <tr style=\"text-align: right;\">\n",
       "      <th></th>\n",
       "      <th>age</th>\n",
       "      <th>parenthood</th>\n",
       "      <th>familysize</th>\n",
       "      <th>deathage</th>\n",
       "      <th>count</th>\n",
       "    </tr>\n",
       "  </thead>\n",
       "  <tbody>\n",
       "    <tr>\n",
       "      <th>0</th>\n",
       "      <td>90</td>\n",
       "      <td>34</td>\n",
       "      <td>3</td>\n",
       "      <td>96</td>\n",
       "      <td>43606</td>\n",
       "    </tr>\n",
       "    <tr>\n",
       "      <th>1</th>\n",
       "      <td>56</td>\n",
       "      <td>34</td>\n",
       "      <td>3</td>\n",
       "      <td>96</td>\n",
       "      <td>65409</td>\n",
       "    </tr>\n",
       "    <tr>\n",
       "      <th>2</th>\n",
       "      <td>22</td>\n",
       "      <td>34</td>\n",
       "      <td>3</td>\n",
       "      <td>96</td>\n",
       "      <td>98113</td>\n",
       "    </tr>\n",
       "  </tbody>\n",
       "</table>\n",
       "</div>"
      ],
      "text/plain": [
       "   age  parenthood  familysize  deathage  count\n",
       "0   90          34           3        96  43606\n",
       "1   56          34           3        96  65409\n",
       "2   22          34           3        96  98113"
      ]
     },
     "execution_count": 11,
     "metadata": {},
     "output_type": "execute_result"
    }
   ],
   "source": [
    "for i in range(200):    \n",
    "    boop.census = boop.census.loc[boop.census['age'] < boop.census['deathage']] + [1,0,0,0,0]\n",
    "    newPeeps = boop.census.loc[boop.census['age'] == boop.census['parenthood']]*[0,1,1,1,1]\n",
    "    if not newPeeps.empty:\n",
    "        for i, demog in newPeeps.iterrows():\n",
    "            newCount = int((demog[4] * demog[2])/ 2)\n",
    "            boop.census = boop.census.append({'age' : 0, 'parenthood' : demog[1], 'familysize' : demog[2], 'deathage' : demog[3], 'count' : newCount}, ignore_index=True)\n",
    "    #newPeeps = 0\n",
    "boop.census"
   ]
  },
  {
   "cell_type": "code",
   "execution_count": null,
   "metadata": {},
   "outputs": [],
   "source": [
    "boop.census = boop.census.loc[boop.census['age'] < boop.census['deathage']] + [1,0,0,0,0]\n",
    "newPeeps = boop.census.loc[boop.census['age'] == boop.census['parenthood']]*[0,1,1,1,1]\n",
    "if not newPeeps.empty:\n",
    "    for i, demog in newPeeps.iterrows():\n",
    "        print(demog)\n",
    "        print(demog[4])\n",
    "        print(demog[2])\n",
    "        newCount = int((demog[4] * demog[2])/ 2)\n",
    "        print(newCount)\n",
    "        boop.census = boop.census.append({'age' : 0, 'parenthood' : demog[1], 'familysize' : demog[2], 'deathage' : demog[3], 'count' : newCount}, ignore_index=True)\n",
    "newPeeps = 0\n",
    "boop.census"
   ]
  },
  {
   "cell_type": "code",
   "execution_count": null,
   "metadata": {},
   "outputs": [],
   "source": [
    "newPeeps = boop.census.loc[boop.census['age'] == boop.census['parenthood']]*[0,1,1,1,1]\n",
    "if not newPeeps.empty:\n",
    "    for i, demog in newPeeps.iterrows():\n",
    "        print(demog)\n",
    "        newCount = int((demog[4] * demog[2])/ 3)\n",
    "        boop.census = boop.census.append({'age' : 0, 'parenthood' : demog[1], 'familysize' : demog[2], 'deathage' : demog[3], 'count' : newCount}, ignore_index=True)\n",
    "newPeeps = 0"
   ]
  },
  {
   "cell_type": "code",
   "execution_count": null,
   "metadata": {},
   "outputs": [],
   "source": [
    "boop.census"
   ]
  },
  {
   "cell_type": "code",
   "execution_count": null,
   "metadata": {},
   "outputs": [],
   "source": []
  },
  {
   "cell_type": "code",
   "execution_count": null,
   "metadata": {},
   "outputs": [],
   "source": [
    "boo = BasicPopModel(aged=19)\n",
    "for i, demog in boo.census.iterrows():\n",
    "    demog[0] += 1\n",
    "    print(boo.census)\n",
    "    print(demog)\n",
    "    if(demog[0] == demog[1]):\n",
    "        boo.census = boo.census.append({'age' : 0, 'parenthood' : demog[1], 'familysize' : demog[2], 'deathage' : demog[3], 'count' : demog[4] * demog[2], 'dead' : False}, ignore_index=True)\n",
    "    print(boo.census)\n",
    "    print(demog)"
   ]
  },
  {
   "cell_type": "code",
   "execution_count": null,
   "metadata": {},
   "outputs": [],
   "source": [
    "boo.census[:]"
   ]
  },
  {
   "cell_type": "code",
   "execution_count": null,
   "metadata": {},
   "outputs": [],
   "source": [
    "#a = next(boo.census.iterrows())\n"
   ]
  },
  {
   "cell_type": "code",
   "execution_count": null,
   "metadata": {},
   "outputs": [],
   "source": [
    "#boo.census.drop(boo.census.index[0])\n",
    "#boo.census"
   ]
  },
  {
   "cell_type": "code",
   "execution_count": null,
   "metadata": {},
   "outputs": [],
   "source": [
    "df = boo.census\n"
   ]
  },
  {
   "cell_type": "code",
   "execution_count": null,
   "metadata": {},
   "outputs": [],
   "source": [
    "df"
   ]
  },
  {
   "cell_type": "code",
   "execution_count": null,
   "metadata": {},
   "outputs": [],
   "source": [
    "df.drop(df.index[0],inplace=True)\n",
    "df"
   ]
  },
  {
   "cell_type": "code",
   "execution_count": null,
   "metadata": {},
   "outputs": [],
   "source": [
    "#df.index[[0]]"
   ]
  },
  {
   "cell_type": "code",
   "execution_count": null,
   "metadata": {},
   "outputs": [],
   "source": [
    "i = 0\n",
    "while i < len(boo.census.index):\n",
    "    if i == 0:\n",
    "        \n",
    "    i+=1\n",
    "    "
   ]
  },
  {
   "cell_type": "code",
   "execution_count": null,
   "metadata": {},
   "outputs": [],
   "source": [
    "for i in range(20):\n",
    "    for i, demog in enumerate(boo.census.iterrows()):\n",
    "        line = demog[1]\n",
    "        line[0] += 1\n",
    "        print(i)\n",
    "        print(line)\n",
    "        if line[5]:\n",
    "            #print('hmm')\n",
    "            continue\n",
    "        if(line[0] == line[1]):\n",
    "            boo.census = boo.census.append({'age' : 0, 'parenthood' : line[1], 'familysize' : line[2], 'deathage' : line[3], 'count' : line[4] * line[2], 'dead' : False}, ignore_index=True)\n",
    "            #print(\"birth \" + str(i))\n",
    "            #print()\n",
    "            #print(line[0])\n",
    "            #print(line[1])\n",
    "        if(line[0] == line[3]):\n",
    "            line[5] == True\n",
    "            #print(\"postdeath i: \" + str(i))\n",
    "            \n",
    "            "
   ]
  },
  {
   "cell_type": "code",
   "execution_count": null,
   "metadata": {},
   "outputs": [],
   "source": []
  },
  {
   "cell_type": "code",
   "execution_count": null,
   "metadata": {},
   "outputs": [],
   "source": [
    "print(boo.census)"
   ]
  },
  {
   "cell_type": "code",
   "execution_count": null,
   "metadata": {},
   "outputs": [],
   "source": [
    "boo.YearUp()"
   ]
  },
  {
   "cell_type": "code",
   "execution_count": null,
   "metadata": {},
   "outputs": [],
   "source": [
    "boo.census.append({'age' : 0, 'parenthood' : line[1], 'familysize' : line[2], 'deathage' : line[3], 'count' : line[4] * line[2]}, ignore_index=True)"
   ]
  },
  {
   "cell_type": "code",
   "execution_count": null,
   "metadata": {},
   "outputs": [],
   "source": [
    "def addd(a=1,b=2):\n",
    "    return a + b\n",
    "\n",
    "    "
   ]
  },
  {
   "cell_type": "code",
   "execution_count": null,
   "metadata": {},
   "outputs": [],
   "source": [
    "print(addd())"
   ]
  },
  {
   "cell_type": "code",
   "execution_count": null,
   "metadata": {},
   "outputs": [],
   "source": []
  },
  {
   "cell_type": "code",
   "execution_count": null,
   "metadata": {},
   "outputs": [],
   "source": [
    "print(\"hello world\")"
   ]
  },
  {
   "cell_type": "code",
   "execution_count": null,
   "metadata": {},
   "outputs": [],
   "source": []
  }
 ],
 "metadata": {
  "kernelspec": {
   "display_name": "Python 3",
   "language": "python",
   "name": "python3"
  },
  "language_info": {
   "codemirror_mode": {
    "name": "ipython",
    "version": 3
   },
   "file_extension": ".py",
   "mimetype": "text/x-python",
   "name": "python",
   "nbconvert_exporter": "python",
   "pygments_lexer": "ipython3",
   "version": "3.6.4"
  }
 },
 "nbformat": 4,
 "nbformat_minor": 2
}
